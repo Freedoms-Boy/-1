{
 "cells": [
  {
   "cell_type": "code",
   "execution_count": 43,
   "metadata": {},
   "outputs": [],
   "source": [
    "import numpy as np\n",
    "import pandas as pd\n",
    "from scipy.stats import mode\n",
    "import matplotlib.pyplot as plt\n",
    "%matplotlib inline"
   ]
  },
  {
   "cell_type": "markdown",
   "metadata": {},
   "source": [
    "# Part 1 Wine Review"
   ]
  },
  {
   "cell_type": "code",
   "execution_count": 3,
   "metadata": {},
   "outputs": [],
   "source": [
    "file1='winemag-data_first150k.csv'"
   ]
  },
  {
   "cell_type": "code",
   "execution_count": 4,
   "metadata": {},
   "outputs": [],
   "source": [
    "wine=pd.read_csv(file1)"
   ]
  },
  {
   "cell_type": "code",
   "execution_count": 5,
   "metadata": {
    "scrolled": true
   },
   "outputs": [
    {
     "data": {
      "text/html": [
       "<div>\n",
       "<style scoped>\n",
       "    .dataframe tbody tr th:only-of-type {\n",
       "        vertical-align: middle;\n",
       "    }\n",
       "\n",
       "    .dataframe tbody tr th {\n",
       "        vertical-align: top;\n",
       "    }\n",
       "\n",
       "    .dataframe thead th {\n",
       "        text-align: right;\n",
       "    }\n",
       "</style>\n",
       "<table border=\"1\" class=\"dataframe\">\n",
       "  <thead>\n",
       "    <tr style=\"text-align: right;\">\n",
       "      <th></th>\n",
       "      <th>Unnamed: 0</th>\n",
       "      <th>country</th>\n",
       "      <th>description</th>\n",
       "      <th>designation</th>\n",
       "      <th>points</th>\n",
       "      <th>price</th>\n",
       "      <th>province</th>\n",
       "      <th>region_1</th>\n",
       "      <th>region_2</th>\n",
       "      <th>variety</th>\n",
       "      <th>winery</th>\n",
       "    </tr>\n",
       "  </thead>\n",
       "  <tbody>\n",
       "    <tr>\n",
       "      <td>0</td>\n",
       "      <td>0</td>\n",
       "      <td>US</td>\n",
       "      <td>This tremendous 100% varietal wine hails from ...</td>\n",
       "      <td>Martha's Vineyard</td>\n",
       "      <td>96</td>\n",
       "      <td>235.0</td>\n",
       "      <td>California</td>\n",
       "      <td>Napa Valley</td>\n",
       "      <td>Napa</td>\n",
       "      <td>Cabernet Sauvignon</td>\n",
       "      <td>Heitz</td>\n",
       "    </tr>\n",
       "    <tr>\n",
       "      <td>1</td>\n",
       "      <td>1</td>\n",
       "      <td>Spain</td>\n",
       "      <td>Ripe aromas of fig, blackberry and cassis are ...</td>\n",
       "      <td>Carodorum Selección Especial Reserva</td>\n",
       "      <td>96</td>\n",
       "      <td>110.0</td>\n",
       "      <td>Northern Spain</td>\n",
       "      <td>Toro</td>\n",
       "      <td>NaN</td>\n",
       "      <td>Tinta de Toro</td>\n",
       "      <td>Bodega Carmen Rodríguez</td>\n",
       "    </tr>\n",
       "    <tr>\n",
       "      <td>2</td>\n",
       "      <td>2</td>\n",
       "      <td>US</td>\n",
       "      <td>Mac Watson honors the memory of a wine once ma...</td>\n",
       "      <td>Special Selected Late Harvest</td>\n",
       "      <td>96</td>\n",
       "      <td>90.0</td>\n",
       "      <td>California</td>\n",
       "      <td>Knights Valley</td>\n",
       "      <td>Sonoma</td>\n",
       "      <td>Sauvignon Blanc</td>\n",
       "      <td>Macauley</td>\n",
       "    </tr>\n",
       "    <tr>\n",
       "      <td>3</td>\n",
       "      <td>3</td>\n",
       "      <td>US</td>\n",
       "      <td>This spent 20 months in 30% new French oak, an...</td>\n",
       "      <td>Reserve</td>\n",
       "      <td>96</td>\n",
       "      <td>65.0</td>\n",
       "      <td>Oregon</td>\n",
       "      <td>Willamette Valley</td>\n",
       "      <td>Willamette Valley</td>\n",
       "      <td>Pinot Noir</td>\n",
       "      <td>Ponzi</td>\n",
       "    </tr>\n",
       "    <tr>\n",
       "      <td>4</td>\n",
       "      <td>4</td>\n",
       "      <td>France</td>\n",
       "      <td>This is the top wine from La Bégude, named aft...</td>\n",
       "      <td>La Brûlade</td>\n",
       "      <td>95</td>\n",
       "      <td>66.0</td>\n",
       "      <td>Provence</td>\n",
       "      <td>Bandol</td>\n",
       "      <td>NaN</td>\n",
       "      <td>Provence red blend</td>\n",
       "      <td>Domaine de la Bégude</td>\n",
       "    </tr>\n",
       "  </tbody>\n",
       "</table>\n",
       "</div>"
      ],
      "text/plain": [
       "   Unnamed: 0 country                                        description  \\\n",
       "0           0      US  This tremendous 100% varietal wine hails from ...   \n",
       "1           1   Spain  Ripe aromas of fig, blackberry and cassis are ...   \n",
       "2           2      US  Mac Watson honors the memory of a wine once ma...   \n",
       "3           3      US  This spent 20 months in 30% new French oak, an...   \n",
       "4           4  France  This is the top wine from La Bégude, named aft...   \n",
       "\n",
       "                            designation  points  price        province  \\\n",
       "0                     Martha's Vineyard      96  235.0      California   \n",
       "1  Carodorum Selección Especial Reserva      96  110.0  Northern Spain   \n",
       "2         Special Selected Late Harvest      96   90.0      California   \n",
       "3                               Reserve      96   65.0          Oregon   \n",
       "4                            La Brûlade      95   66.0        Provence   \n",
       "\n",
       "            region_1           region_2             variety  \\\n",
       "0        Napa Valley               Napa  Cabernet Sauvignon   \n",
       "1               Toro                NaN       Tinta de Toro   \n",
       "2     Knights Valley             Sonoma     Sauvignon Blanc   \n",
       "3  Willamette Valley  Willamette Valley          Pinot Noir   \n",
       "4             Bandol                NaN  Provence red blend   \n",
       "\n",
       "                    winery  \n",
       "0                    Heitz  \n",
       "1  Bodega Carmen Rodríguez  \n",
       "2                 Macauley  \n",
       "3                    Ponzi  \n",
       "4     Domaine de la Bégude  "
      ]
     },
     "execution_count": 5,
     "metadata": {},
     "output_type": "execute_result"
    }
   ],
   "source": [
    "wine.head(5)"
   ]
  },
  {
   "cell_type": "markdown",
   "metadata": {},
   "source": [
    "## 1 数据可视化和摘要"
   ]
  },
  {
   "cell_type": "markdown",
   "metadata": {},
   "source": [
    "### 1.1 数据摘要"
   ]
  },
  {
   "cell_type": "markdown",
   "metadata": {},
   "source": [
    "#### 标称属性"
   ]
  },
  {
   "cell_type": "code",
   "execution_count": 6,
   "metadata": {},
   "outputs": [],
   "source": [
    "nomial_data=wine.select_dtypes(include=['object'])"
   ]
  },
  {
   "cell_type": "code",
   "execution_count": 7,
   "metadata": {},
   "outputs": [
    {
     "name": "stdout",
     "output_type": "stream",
     "text": [
      "-------------------------------------------------\n",
      "country:\n",
      "US                        62397\n",
      "Italy                     23478\n",
      "France                    21098\n",
      "Spain                      8268\n",
      "Chile                      5816\n",
      "Argentina                  5631\n",
      "Portugal                   5322\n",
      "Australia                  4957\n",
      "New Zealand                3320\n",
      "Austria                    3057\n",
      "Germany                    2452\n",
      "South Africa               2258\n",
      "Greece                      884\n",
      "Israel                      630\n",
      "Hungary                     231\n",
      "Canada                      196\n",
      "Romania                     139\n",
      "Slovenia                     94\n",
      "Uruguay                      92\n",
      "Croatia                      89\n",
      "Bulgaria                     77\n",
      "Moldova                      71\n",
      "Mexico                       63\n",
      "Turkey                       52\n",
      "Georgia                      43\n",
      "Lebanon                      37\n",
      "Cyprus                       31\n",
      "Brazil                       25\n",
      "Macedonia                    16\n",
      "Serbia                       14\n",
      "Morocco                      12\n",
      "England                       9\n",
      "Luxembourg                    9\n",
      "India                         8\n",
      "Lithuania                     8\n",
      "Czech Republic                6\n",
      "Ukraine                       5\n",
      "Switzerland                   4\n",
      "South Korea                   4\n",
      "Bosnia and Herzegovina        4\n",
      "Slovakia                      3\n",
      "Egypt                         3\n",
      "China                         3\n",
      "Montenegro                    2\n",
      "Tunisia                       2\n",
      "Albania                       2\n",
      "Japan                         2\n",
      "US-France                     1\n",
      "Name: country, dtype: int64\n",
      "-------------------------------------------------\n",
      "description:\n",
      "Powerful in Zinny character, this blend of Dry Creek and Russian River grapes bursts with brawny flavors of wild berries, chocolate-covered mint, tobacco and pepper, wrapped into sturdy tannins. Shows real class and character.                                                                                                                                                     6\n",
      "A little bit funky and unsettled when you pop the screwcap, but soon it finds its floral, blueberry base. Remains superficial and sweet in the mouth, with candied flavors, vanilla and mild oak. Highly regular; could use more concentration and density.                                                                                                                            6\n",
      "92-94 Barrel sample. A rounded wine, its tannins submerged into the ripe fruits. It feels soft, and there is just a bite of alcohol. The structure is soft, generous, opulent.                                                                                                                                                                                                         6\n",
      "86-88 This could work as a rich wine, because there is good structure and piles of botrytis. It could be delicious, with its lovely dry finish, but that's for the future.                                                                                                                                                                                                             6\n",
      "Gibilmoro, a pure expression of Nero d'Avola, sees some oak aging to shape aromas of toasted walnut, nutella and wood spice. In fact, not much of the natural fruit is left, and what is there feels jammy and ripe.                                                                                                                                                                   5\n",
      "                                                                                                                                                                                                                                                                                                                                                                                      ..\n",
      "The wine comes from a parcel of land planted with both Merlot and Tannat. In its structure, this great wine has a strong connection to the Madirans that are the hallmark of this producer. With maturity, the wine has developed fine secondary flavors and undergrowth and dried-fruit flavors. The wine, named after a standing stone found in the area, is very ready to drink.    1\n",
      "Another successful vintage for this wine, it maintains a clean, well-defined mouthfeel that barely registers the 1.3% residual sugar. The aromas of pear, melon and citrus rind introduce similar flavors, along with a suggestion of sweet orange candy.                                                                                                                              1\n",
      "This wine has a rustic but appealing air about it, with its cedary pepper and luscious jam nose and elegant balance of berry, smoke and spice. The wine is approachable and will pair with smoked meats and spicy dishes well.                                                                                                                                                         1\n",
      "Here's a well-priced Friulano that offers good structure and creamy, dense persistency. The wine would work well with appetizers or light lunches and offers a fun blast of citrus, peach and pear.                                                                                                                                                                                    1\n",
      "New wood flavors go over the structured fruit and give currant flavors. It is already coming into balance and is for medium-term aging. The vineyard is on the plain beneath the hill of Saint-Émilion.                                                                                                                                                                                1\n",
      "Name: description, Length: 97821, dtype: int64\n",
      "-------------------------------------------------\n",
      "designation:\n",
      "Reserve                               2752\n",
      "Reserva                               1810\n",
      "Estate                                1571\n",
      "Barrel sample                         1326\n",
      "Riserva                                754\n",
      "                                      ... \n",
      "Val Saint Grégoire                       1\n",
      "Pilheiros Branco                         1\n",
      "Corchaug Estate Reserve                  1\n",
      "The Ridge-Georges Caton Vineyard         1\n",
      "Malbec-Petit Verdot-Cabernet Franc       1\n",
      "Name: designation, Length: 30621, dtype: int64\n",
      "-------------------------------------------------\n",
      "province:\n",
      "California        44508\n",
      "Washington         9750\n",
      "Tuscany            7281\n",
      "Bordeaux           6111\n",
      "Northern Spain     4892\n",
      "                  ...  \n",
      "Douro Superior        1\n",
      "Colares               1\n",
      "Pafos                 1\n",
      "Nevada                1\n",
      "Valais                1\n",
      "Name: province, Length: 455, dtype: int64\n",
      "-------------------------------------------------\n",
      "region_1:\n",
      "Napa Valley                        6209\n",
      "Columbia Valley (WA)               4975\n",
      "Mendoza                            3586\n",
      "Russian River Valley               3571\n",
      "California                         3462\n",
      "                                   ... \n",
      "Catamarca                             1\n",
      "Muscadet Sèvre et Maine Clisson       1\n",
      "Mitterberg                            1\n",
      "Cour-Cheverny                         1\n",
      "Prince Edward County                  1\n",
      "Name: region_1, Length: 1236, dtype: int64\n",
      "-------------------------------------------------\n",
      "region_2:\n",
      "Central Coast              13057\n",
      "Sonoma                     11258\n",
      "Columbia Valley             9157\n",
      "Napa                        8801\n",
      "California Other            3516\n",
      "Willamette Valley           3181\n",
      "Mendocino/Lake Counties     2389\n",
      "Sierra Foothills            1660\n",
      "Napa-Sonoma                 1645\n",
      "Finger Lakes                1510\n",
      "Central Valley              1115\n",
      "Long Island                  771\n",
      "Southern Oregon              662\n",
      "Oregon Other                 661\n",
      "North Coast                  632\n",
      "Washington Other             593\n",
      "South Coast                  198\n",
      "New York Other               147\n",
      "Name: region_2, dtype: int64\n",
      "-------------------------------------------------\n",
      "variety:\n",
      "Chardonnay                  14482\n",
      "Pinot Noir                  14291\n",
      "Cabernet Sauvignon          12800\n",
      "Red Blend                   10062\n",
      "Bordeaux-style Red Blend     7347\n",
      "                            ...  \n",
      "Blauburgunder                   1\n",
      "Moscato di Noto                 1\n",
      "Chardonel                       1\n",
      "Viognier-Valdiguié              1\n",
      "Pardina                         1\n",
      "Name: variety, Length: 632, dtype: int64\n",
      "-------------------------------------------------\n",
      "winery:\n",
      "Williams Selyem          374\n",
      "Testarossa               274\n",
      "DFJ Vinhos               258\n",
      "Chateau Ste. Michelle    225\n",
      "Columbia Crest           217\n",
      "                        ... \n",
      "Walnut Crest               1\n",
      "Tenuta di Fraternita       1\n",
      "Cantine Sasso              1\n",
      "Perimeter                  1\n",
      "Château Boswell            1\n",
      "Name: winery, Length: 14810, dtype: int64\n"
     ]
    }
   ],
   "source": [
    "for col in nomial_data.columns:\n",
    "    print(\"-------------------------------------------------\")\n",
    "    print(\"{}:\\n{}\".format(col,nomial_data[col].value_counts()))"
   ]
  },
  {
   "cell_type": "markdown",
   "metadata": {},
   "source": [
    "#### 数值属性"
   ]
  },
  {
   "cell_type": "code",
   "execution_count": 8,
   "metadata": {},
   "outputs": [],
   "source": [
    "points=wine['points']\n",
    "price=wine['price']"
   ]
  },
  {
   "cell_type": "code",
   "execution_count": 9,
   "metadata": {},
   "outputs": [],
   "source": [
    "points_array=np.array(points.dropna())\n",
    "price_array=np.array(price.dropna())"
   ]
  },
  {
   "cell_type": "code",
   "execution_count": 10,
   "metadata": {},
   "outputs": [],
   "source": [
    "points_max=np.max(points_array)\n",
    "points_min=np.min(points_array)\n",
    "points_1=np.quantile(points_array,0.25)\n",
    "points_2=np.quantile(points_array,0.5)\n",
    "points_3=np.quantile(points_array,0.75)"
   ]
  },
  {
   "cell_type": "code",
   "execution_count": 11,
   "metadata": {},
   "outputs": [
    {
     "name": "stdout",
     "output_type": "stream",
     "text": [
      "points 五数概括：\n",
      "min: 80\n",
      "25%: 86.0\n",
      "50%: 88.0\n",
      "75%: 90.0\n",
      "max: 100\n"
     ]
    }
   ],
   "source": [
    "print(\"points 五数概括：\")\n",
    "print(\"min: {}\\n25%: {}\\n50%: {}\\n75%: {}\\nmax: {}\".format(points_min,points_1,points_2,points_3,points_max))"
   ]
  },
  {
   "cell_type": "code",
   "execution_count": 12,
   "metadata": {},
   "outputs": [],
   "source": [
    "price_max=np.max(price_array)\n",
    "price_min=np.min(price_array)\n",
    "price_1=np.quantile(price_array,0.25)\n",
    "price_2=np.quantile(price_array,0.5)\n",
    "price_3=np.quantile(price_array,0.75)"
   ]
  },
  {
   "cell_type": "code",
   "execution_count": 13,
   "metadata": {},
   "outputs": [
    {
     "name": "stdout",
     "output_type": "stream",
     "text": [
      "price 五数概括：\n",
      "min: 4.0\n",
      "25%: 16.0\n",
      "50%: 24.0\n",
      "75%: 40.0\n",
      "max: 2300.0\n"
     ]
    }
   ],
   "source": [
    "print(\"price 五数概括：\")\n",
    "print(\"min: {}\\n25%: {}\\n50%: {}\\n75%: {}\\nmax: {}\".format(price_min,price_1,price_2,price_3,price_max))"
   ]
  },
  {
   "cell_type": "code",
   "execution_count": 123,
   "metadata": {},
   "outputs": [
    {
     "name": "stdout",
     "output_type": "stream",
     "text": [
      "the number of na:\n",
      "Unnamed: 0         0\n",
      "country            5\n",
      "description        0\n",
      "designation    45735\n",
      "points             0\n",
      "price          13695\n",
      "province           5\n",
      "region_1       25060\n",
      "region_2       89977\n",
      "variety            0\n",
      "winery             0\n",
      "dtype: int64\n"
     ]
    }
   ],
   "source": [
    "na = wine.isna().sum()\n",
    "print('the number of na:')\n",
    "print(na)"
   ]
  },
  {
   "cell_type": "markdown",
   "metadata": {},
   "source": [
    "### 1.2 数据可视化"
   ]
  },
  {
   "cell_type": "code",
   "execution_count": 15,
   "metadata": {},
   "outputs": [
    {
     "data": {
      "image/png": "[encoded data removed]",
      "text/plain": [
       "<Figure size 432x288 with 1 Axes>"
      ]
     },
     "metadata": {
      "needs_background": "light"
     },
     "output_type": "display_data"
    }
   ],
   "source": [
    "plt.hist(points, bins=50,facecolor=\"blue\", edgecolor=\"black\")\n",
    "plt.title('points')\n",
    "plt.show()"
   ]
  },
  {
   "cell_type": "code",
   "execution_count": 16,
   "metadata": {},
   "outputs": [
    {
     "data": {
      "text/plain": [
       "Text(0.5, 1.0, 'points')"
      ]
     },
     "execution_count": 16,
     "metadata": {},
     "output_type": "execute_result"
    },
    {
     "data": {
      "image/png": "[encoded data removed]",
      "text/plain": [
       "<Figure size 432x288 with 1 Axes>"
      ]
     },
     "metadata": {
      "needs_background": "light"
     },
     "output_type": "display_data"
    }
   ],
   "source": [
    "plt.boxplot(points)\n",
    "plt.title('points')"
   ]
  },
  {
   "cell_type": "code",
   "execution_count": 17,
   "metadata": {},
   "outputs": [
    {
     "name": "stderr",
     "output_type": "stream",
     "text": [
      "C:\\Anaconda3\\lib\\site-packages\\numpy\\lib\\histograms.py:839: RuntimeWarning: invalid value encountered in greater_equal\n",
      "  keep = (tmp_a >= first_edge)\n",
      "C:\\Anaconda3\\lib\\site-packages\\numpy\\lib\\histograms.py:840: RuntimeWarning: invalid value encountered in less_equal\n",
      "  keep &= (tmp_a <= last_edge)\n"
     ]
    },
    {
     "data": {
      "image/png": "[encoded data removed]",
      "text/plain": [
       "<Figure size 432x288 with 1 Axes>"
      ]
     },
     "metadata": {
      "needs_background": "light"
     },
     "output_type": "display_data"
    }
   ],
   "source": [
    "plt.hist(price, bins=50,facecolor=\"green\", edgecolor=\"black\")\n",
    "plt.title('prices')\n",
    "plt.show()"
   ]
  },
  {
   "cell_type": "code",
   "execution_count": 18,
   "metadata": {},
   "outputs": [
    {
     "name": "stderr",
     "output_type": "stream",
     "text": [
      "C:\\Anaconda3\\lib\\site-packages\\matplotlib\\cbook\\__init__.py:1316: RuntimeWarning: invalid value encountered in less_equal\n",
      "  wiskhi = x[x <= hival]\n",
      "C:\\Anaconda3\\lib\\site-packages\\matplotlib\\cbook\\__init__.py:1323: RuntimeWarning: invalid value encountered in greater_equal\n",
      "  wisklo = x[x >= loval]\n",
      "C:\\Anaconda3\\lib\\site-packages\\matplotlib\\cbook\\__init__.py:1331: RuntimeWarning: invalid value encountered in less\n",
      "  x[x < stats['whislo']],\n",
      "C:\\Anaconda3\\lib\\site-packages\\matplotlib\\cbook\\__init__.py:1332: RuntimeWarning: invalid value encountered in greater\n",
      "  x[x > stats['whishi']],\n"
     ]
    },
    {
     "data": {
      "text/plain": [
       "Text(0.5, 1.0, 'price')"
      ]
     },
     "execution_count": 18,
     "metadata": {},
     "output_type": "execute_result"
    },
    {
     "data": {
      "image/png": "[encoded data removed]",
      "text/plain": [
       "<Figure size 432x288 with 1 Axes>"
      ]
     },
     "metadata": {
      "needs_background": "light"
     },
     "output_type": "display_data"
    }
   ],
   "source": [
    "plt.boxplot(price)\n",
    "plt.title('price')"
   ]
  },
  {
   "cell_type": "markdown",
   "metadata": {},
   "source": [
    "## 2.数据缺失的处理"
   ]
  },
  {
   "cell_type": "markdown",
   "metadata": {},
   "source": [
    "### 2.1 缺失数据剔除"
   ]
  },
  {
   "cell_type": "code",
   "execution_count": 39,
   "metadata": {},
   "outputs": [],
   "source": [
    "price_n1=price.dropna()"
   ]
  },
  {
   "cell_type": "code",
   "execution_count": 88,
   "metadata": {
    "scrolled": false
   },
   "outputs": [
    {
     "data": {
      "text/plain": [
       "Text(0.5, 1.0, 'price')"
      ]
     },
     "execution_count": 88,
     "metadata": {},
     "output_type": "execute_result"
    },
    {
     "data": {
      "image/png": "[encoded data removed]",
      "text/plain": [
       "<Figure size 864x576 with 2 Axes>"
      ]
     },
     "metadata": {
      "needs_background": "light"
     },
     "output_type": "display_data"
    }
   ],
   "source": [
    "plt.figure(figsize=(12,8))\n",
    "plt.subplot(2,1,1)\n",
    "plt.hist(price_n1, bins=500,facecolor=\"blue\", edgecolor=\"black\")\n",
    "plt.title('price_pro')\n",
    "plt.subplot(2,1,2)\n",
    "plt.hist(price, bins=500,facecolor=\"blue\", edgecolor=\"black\")\n",
    "plt.title('price')"
   ]
  },
  {
   "cell_type": "code",
   "execution_count": 84,
   "metadata": {},
   "outputs": [
    {
     "name": "stderr",
     "output_type": "stream",
     "text": [
      "C:\\Anaconda3\\lib\\site-packages\\matplotlib\\cbook\\__init__.py:1316: RuntimeWarning: invalid value encountered in less_equal\n",
      "  wiskhi = x[x <= hival]\n",
      "C:\\Anaconda3\\lib\\site-packages\\matplotlib\\cbook\\__init__.py:1323: RuntimeWarning: invalid value encountered in greater_equal\n",
      "  wisklo = x[x >= loval]\n",
      "C:\\Anaconda3\\lib\\site-packages\\matplotlib\\cbook\\__init__.py:1331: RuntimeWarning: invalid value encountered in less\n",
      "  x[x < stats['whislo']],\n",
      "C:\\Anaconda3\\lib\\site-packages\\matplotlib\\cbook\\__init__.py:1332: RuntimeWarning: invalid value encountered in greater\n",
      "  x[x > stats['whishi']],\n"
     ]
    },
    {
     "data": {
      "text/plain": [
       "Text(0.5, 1.0, 'price')"
      ]
     },
     "execution_count": 84,
     "metadata": {},
     "output_type": "execute_result"
    },
    {
     "data": {
      "image/png": "[encoded data removed]",
      "text/plain": [
       "<Figure size 864x576 with 2 Axes>"
      ]
     },
     "metadata": {
      "needs_background": "light"
     },
     "output_type": "display_data"
    }
   ],
   "source": [
    "plt.figure(figsize=(12,8))\n",
    "plt.subplot(2,1,1)\n",
    "plt.boxplot(price_n1,vert=False)\n",
    "plt.title('price_pro')\n",
    "plt.subplot(2,1,2)\n",
    "plt.boxplot(price,vert=False)\n",
    "plt.title('price')"
   ]
  },
  {
   "cell_type": "markdown",
   "metadata": {},
   "source": [
    "### 2.2用最高频率值来填补缺失值"
   ]
  },
  {
   "cell_type": "code",
   "execution_count": 52,
   "metadata": {},
   "outputs": [],
   "source": [
    "mode_value,_=mode(price)"
   ]
  },
  {
   "cell_type": "code",
   "execution_count": 53,
   "metadata": {},
   "outputs": [],
   "source": [
    "price_n2=price.fillna(mode_value[0])"
   ]
  },
  {
   "cell_type": "code",
   "execution_count": 87,
   "metadata": {},
   "outputs": [
    {
     "data": {
      "text/plain": [
       "Text(0.5, 1.0, 'price')"
      ]
     },
     "execution_count": 87,
     "metadata": {},
     "output_type": "execute_result"
    },
    {
     "data": {
      "image/png": "[encoded data removed]",
      "text/plain": [
       "<Figure size 864x576 with 2 Axes>"
      ]
     },
     "metadata": {
      "needs_background": "light"
     },
     "output_type": "display_data"
    }
   ],
   "source": [
    "plt.figure(figsize=(12,8))\n",
    "plt.subplot(2,1,1)\n",
    "plt.hist(price_n2, bins=500,facecolor=\"blue\", edgecolor=\"black\")\n",
    "plt.title('price_pro')\n",
    "plt.subplot(2,1,2)\n",
    "plt.hist(price, bins=500,facecolor=\"blue\", edgecolor=\"black\")\n",
    "plt.title('price')"
   ]
  },
  {
   "cell_type": "code",
   "execution_count": 83,
   "metadata": {},
   "outputs": [
    {
     "name": "stderr",
     "output_type": "stream",
     "text": [
      "C:\\Anaconda3\\lib\\site-packages\\matplotlib\\cbook\\__init__.py:1316: RuntimeWarning: invalid value encountered in less_equal\n",
      "  wiskhi = x[x <= hival]\n",
      "C:\\Anaconda3\\lib\\site-packages\\matplotlib\\cbook\\__init__.py:1323: RuntimeWarning: invalid value encountered in greater_equal\n",
      "  wisklo = x[x >= loval]\n",
      "C:\\Anaconda3\\lib\\site-packages\\matplotlib\\cbook\\__init__.py:1331: RuntimeWarning: invalid value encountered in less\n",
      "  x[x < stats['whislo']],\n",
      "C:\\Anaconda3\\lib\\site-packages\\matplotlib\\cbook\\__init__.py:1332: RuntimeWarning: invalid value encountered in greater\n",
      "  x[x > stats['whishi']],\n"
     ]
    },
    {
     "data": {
      "text/plain": [
       "Text(0.5, 1.0, 'price')"
      ]
     },
     "execution_count": 83,
     "metadata": {},
     "output_type": "execute_result"
    },
    {
     "data": {
      "image/png": "[encoded data removed]",
      "text/plain": [
       "<Figure size 864x576 with 2 Axes>"
      ]
     },
     "metadata": {
      "needs_background": "light"
     },
     "output_type": "display_data"
    }
   ],
   "source": [
    "plt.figure(figsize=(12,8))\n",
    "plt.subplot(2,1,1)\n",
    "plt.boxplot(price_n2,vert=False)\n",
    "plt.title('price_pro')\n",
    "plt.subplot(2,1,2)\n",
    "plt.boxplot(price,vert=False)\n",
    "plt.title('price')"
   ]
  },
  {
   "cell_type": "markdown",
   "metadata": {},
   "source": [
    "### 2.3 中位数"
   ]
  },
  {
   "cell_type": "code",
   "execution_count": 72,
   "metadata": {},
   "outputs": [],
   "source": [
    "price_n3=price.fillna(np.median(price.dropna()))"
   ]
  },
  {
   "cell_type": "code",
   "execution_count": 86,
   "metadata": {},
   "outputs": [
    {
     "data": {
      "text/plain": [
       "Text(0.5, 1.0, 'price')"
      ]
     },
     "execution_count": 86,
     "metadata": {},
     "output_type": "execute_result"
    },
    {
     "data": {
      "image/png": "[encoded data removed]",
      "text/plain": [
       "<Figure size 864x576 with 2 Axes>"
      ]
     },
     "metadata": {
      "needs_background": "light"
     },
     "output_type": "display_data"
    }
   ],
   "source": [
    "plt.figure(figsize=(12,8))\n",
    "plt.subplot(2,1,1)\n",
    "plt.hist(price_n3, bins=1000,facecolor=\"blue\", edgecolor=\"black\")\n",
    "plt.title('price_pro')\n",
    "plt.subplot(2,1,2)\n",
    "plt.hist(price, bins=1000,facecolor=\"blue\", edgecolor=\"black\")\n",
    "plt.title('price')"
   ]
  },
  {
   "cell_type": "code",
   "execution_count": 82,
   "metadata": {},
   "outputs": [
    {
     "name": "stderr",
     "output_type": "stream",
     "text": [
      "C:\\Anaconda3\\lib\\site-packages\\matplotlib\\cbook\\__init__.py:1316: RuntimeWarning: invalid value encountered in less_equal\n",
      "  wiskhi = x[x <= hival]\n",
      "C:\\Anaconda3\\lib\\site-packages\\matplotlib\\cbook\\__init__.py:1323: RuntimeWarning: invalid value encountered in greater_equal\n",
      "  wisklo = x[x >= loval]\n",
      "C:\\Anaconda3\\lib\\site-packages\\matplotlib\\cbook\\__init__.py:1331: RuntimeWarning: invalid value encountered in less\n",
      "  x[x < stats['whislo']],\n",
      "C:\\Anaconda3\\lib\\site-packages\\matplotlib\\cbook\\__init__.py:1332: RuntimeWarning: invalid value encountered in greater\n",
      "  x[x > stats['whishi']],\n"
     ]
    },
    {
     "data": {
      "text/plain": [
       "Text(0.5, 1.0, 'price')"
      ]
     },
     "execution_count": 82,
     "metadata": {},
     "output_type": "execute_result"
    },
    {
     "data": {
      "image/png": "[encoded data removed]",
      "text/plain": [
       "<Figure size 864x576 with 2 Axes>"
      ]
     },
     "metadata": {
      "needs_background": "light"
     },
     "output_type": "display_data"
    }
   ],
   "source": [
    "plt.figure(figsize=(12,8))\n",
    "plt.subplot(2,1,1)\n",
    "plt.boxplot(price_n3,vert=False)\n",
    "plt.title('price_pro')\n",
    "plt.subplot(2,1,2)\n",
    "plt.boxplot(price,vert=False)\n",
    "plt.title('price')"
   ]
  },
  {
   "cell_type": "markdown",
   "metadata": {},
   "source": [
    "### 2.4 相似性"
   ]
  },
  {
   "cell_type": "markdown",
   "metadata": {},
   "source": [
    "这个不是很会~~"
   ]
  },
  {
   "cell_type": "markdown",
   "metadata": {},
   "source": [
    "# Part 2 Trending YouTube Video Statistics"
   ]
  },
  {
   "cell_type": "code",
   "execution_count": 89,
   "metadata": {},
   "outputs": [],
   "source": [
    "file='youtube/CAvideos.csv'"
   ]
  },
  {
   "cell_type": "code",
   "execution_count": 90,
   "metadata": {},
   "outputs": [],
   "source": [
    "df_2=pd.read_csv(file)"
   ]
  },
  {
   "cell_type": "code",
   "execution_count": 91,
   "metadata": {},
   "outputs": [
    {
     "data": {
      "text/html": [
       "<div>\n",
       "<style scoped>\n",
       "    .dataframe tbody tr th:only-of-type {\n",
       "        vertical-align: middle;\n",
       "    }\n",
       "\n",
       "    .dataframe tbody tr th {\n",
       "        vertical-align: top;\n",
       "    }\n",
       "\n",
       "    .dataframe thead th {\n",
       "        text-align: right;\n",
       "    }\n",
       "</style>\n",
       "<table border=\"1\" class=\"dataframe\">\n",
       "  <thead>\n",
       "    <tr style=\"text-align: right;\">\n",
       "      <th></th>\n",
       "      <th>video_id</th>\n",
       "      <th>trending_date</th>\n",
       "      <th>title</th>\n",
       "      <th>channel_title</th>\n",
       "      <th>category_id</th>\n",
       "      <th>publish_time</th>\n",
       "      <th>tags</th>\n",
       "      <th>views</th>\n",
       "      <th>likes</th>\n",
       "      <th>dislikes</th>\n",
       "      <th>comment_count</th>\n",
       "      <th>thumbnail_link</th>\n",
       "      <th>comments_disabled</th>\n",
       "      <th>ratings_disabled</th>\n",
       "      <th>video_error_or_removed</th>\n",
       "      <th>description</th>\n",
       "    </tr>\n",
       "  </thead>\n",
       "  <tbody>\n",
       "    <tr>\n",
       "      <td>0</td>\n",
       "      <td>n1WpP7iowLc</td>\n",
       "      <td>17.14.11</td>\n",
       "      <td>Eminem - Walk On Water (Audio) ft. Beyoncé</td>\n",
       "      <td>EminemVEVO</td>\n",
       "      <td>10</td>\n",
       "      <td>2017-11-10T17:00:03.000Z</td>\n",
       "      <td>Eminem|\"Walk\"|\"On\"|\"Water\"|\"Aftermath/Shady/In...</td>\n",
       "      <td>17158579</td>\n",
       "      <td>787425</td>\n",
       "      <td>43420</td>\n",
       "      <td>125882</td>\n",
       "      <td>https://i.ytimg.com/vi/n1WpP7iowLc/default.jpg</td>\n",
       "      <td>False</td>\n",
       "      <td>False</td>\n",
       "      <td>False</td>\n",
       "      <td>Eminem's new track Walk on Water ft. Beyoncé i...</td>\n",
       "    </tr>\n",
       "    <tr>\n",
       "      <td>1</td>\n",
       "      <td>0dBIkQ4Mz1M</td>\n",
       "      <td>17.14.11</td>\n",
       "      <td>PLUSH - Bad Unboxing Fan Mail</td>\n",
       "      <td>iDubbbzTV</td>\n",
       "      <td>23</td>\n",
       "      <td>2017-11-13T17:00:00.000Z</td>\n",
       "      <td>plush|\"bad unboxing\"|\"unboxing\"|\"fan mail\"|\"id...</td>\n",
       "      <td>1014651</td>\n",
       "      <td>127794</td>\n",
       "      <td>1688</td>\n",
       "      <td>13030</td>\n",
       "      <td>https://i.ytimg.com/vi/0dBIkQ4Mz1M/default.jpg</td>\n",
       "      <td>False</td>\n",
       "      <td>False</td>\n",
       "      <td>False</td>\n",
       "      <td>STill got a lot of packages. Probably will las...</td>\n",
       "    </tr>\n",
       "    <tr>\n",
       "      <td>2</td>\n",
       "      <td>5qpjK5DgCt4</td>\n",
       "      <td>17.14.11</td>\n",
       "      <td>Racist Superman | Rudy Mancuso, King Bach &amp; Le...</td>\n",
       "      <td>Rudy Mancuso</td>\n",
       "      <td>23</td>\n",
       "      <td>2017-11-12T19:05:24.000Z</td>\n",
       "      <td>racist superman|\"rudy\"|\"mancuso\"|\"king\"|\"bach\"...</td>\n",
       "      <td>3191434</td>\n",
       "      <td>146035</td>\n",
       "      <td>5339</td>\n",
       "      <td>8181</td>\n",
       "      <td>https://i.ytimg.com/vi/5qpjK5DgCt4/default.jpg</td>\n",
       "      <td>False</td>\n",
       "      <td>False</td>\n",
       "      <td>False</td>\n",
       "      <td>WATCH MY PREVIOUS VIDEO ▶ \\n\\nSUBSCRIBE ► http...</td>\n",
       "    </tr>\n",
       "    <tr>\n",
       "      <td>3</td>\n",
       "      <td>d380meD0W0M</td>\n",
       "      <td>17.14.11</td>\n",
       "      <td>I Dare You: GOING BALD!?</td>\n",
       "      <td>nigahiga</td>\n",
       "      <td>24</td>\n",
       "      <td>2017-11-12T18:01:41.000Z</td>\n",
       "      <td>ryan|\"higa\"|\"higatv\"|\"nigahiga\"|\"i dare you\"|\"...</td>\n",
       "      <td>2095828</td>\n",
       "      <td>132239</td>\n",
       "      <td>1989</td>\n",
       "      <td>17518</td>\n",
       "      <td>https://i.ytimg.com/vi/d380meD0W0M/default.jpg</td>\n",
       "      <td>False</td>\n",
       "      <td>False</td>\n",
       "      <td>False</td>\n",
       "      <td>I know it's been a while since we did this sho...</td>\n",
       "    </tr>\n",
       "    <tr>\n",
       "      <td>4</td>\n",
       "      <td>2Vv-BfVoq4g</td>\n",
       "      <td>17.14.11</td>\n",
       "      <td>Ed Sheeran - Perfect (Official Music Video)</td>\n",
       "      <td>Ed Sheeran</td>\n",
       "      <td>10</td>\n",
       "      <td>2017-11-09T11:04:14.000Z</td>\n",
       "      <td>edsheeran|\"ed sheeran\"|\"acoustic\"|\"live\"|\"cove...</td>\n",
       "      <td>33523622</td>\n",
       "      <td>1634130</td>\n",
       "      <td>21082</td>\n",
       "      <td>85067</td>\n",
       "      <td>https://i.ytimg.com/vi/2Vv-BfVoq4g/default.jpg</td>\n",
       "      <td>False</td>\n",
       "      <td>False</td>\n",
       "      <td>False</td>\n",
       "      <td>🎧: https://ad.gt/yt-perfect\\n💰: https://atlant...</td>\n",
       "    </tr>\n",
       "  </tbody>\n",
       "</table>\n",
       "</div>"
      ],
      "text/plain": [
       "      video_id trending_date  \\\n",
       "0  n1WpP7iowLc      17.14.11   \n",
       "1  0dBIkQ4Mz1M      17.14.11   \n",
       "2  5qpjK5DgCt4      17.14.11   \n",
       "3  d380meD0W0M      17.14.11   \n",
       "4  2Vv-BfVoq4g      17.14.11   \n",
       "\n",
       "                                               title channel_title  \\\n",
       "0         Eminem - Walk On Water (Audio) ft. Beyoncé    EminemVEVO   \n",
       "1                      PLUSH - Bad Unboxing Fan Mail     iDubbbzTV   \n",
       "2  Racist Superman | Rudy Mancuso, King Bach & Le...  Rudy Mancuso   \n",
       "3                           I Dare You: GOING BALD!?      nigahiga   \n",
       "4        Ed Sheeran - Perfect (Official Music Video)    Ed Sheeran   \n",
       "\n",
       "   category_id              publish_time  \\\n",
       "0           10  2017-11-10T17:00:03.000Z   \n",
       "1           23  2017-11-13T17:00:00.000Z   \n",
       "2           23  2017-11-12T19:05:24.000Z   \n",
       "3           24  2017-11-12T18:01:41.000Z   \n",
       "4           10  2017-11-09T11:04:14.000Z   \n",
       "\n",
       "                                                tags     views    likes  \\\n",
       "0  Eminem|\"Walk\"|\"On\"|\"Water\"|\"Aftermath/Shady/In...  17158579   787425   \n",
       "1  plush|\"bad unboxing\"|\"unboxing\"|\"fan mail\"|\"id...   1014651   127794   \n",
       "2  racist superman|\"rudy\"|\"mancuso\"|\"king\"|\"bach\"...   3191434   146035   \n",
       "3  ryan|\"higa\"|\"higatv\"|\"nigahiga\"|\"i dare you\"|\"...   2095828   132239   \n",
       "4  edsheeran|\"ed sheeran\"|\"acoustic\"|\"live\"|\"cove...  33523622  1634130   \n",
       "\n",
       "   dislikes  comment_count                                  thumbnail_link  \\\n",
       "0     43420         125882  https://i.ytimg.com/vi/n1WpP7iowLc/default.jpg   \n",
       "1      1688          13030  https://i.ytimg.com/vi/0dBIkQ4Mz1M/default.jpg   \n",
       "2      5339           8181  https://i.ytimg.com/vi/5qpjK5DgCt4/default.jpg   \n",
       "3      1989          17518  https://i.ytimg.com/vi/d380meD0W0M/default.jpg   \n",
       "4     21082          85067  https://i.ytimg.com/vi/2Vv-BfVoq4g/default.jpg   \n",
       "\n",
       "   comments_disabled  ratings_disabled  video_error_or_removed  \\\n",
       "0              False             False                   False   \n",
       "1              False             False                   False   \n",
       "2              False             False                   False   \n",
       "3              False             False                   False   \n",
       "4              False             False                   False   \n",
       "\n",
       "                                         description  \n",
       "0  Eminem's new track Walk on Water ft. Beyoncé i...  \n",
       "1  STill got a lot of packages. Probably will las...  \n",
       "2  WATCH MY PREVIOUS VIDEO ▶ \\n\\nSUBSCRIBE ► http...  \n",
       "3  I know it's been a while since we did this sho...  \n",
       "4  🎧: https://ad.gt/yt-perfect\\n💰: https://atlant...  "
      ]
     },
     "execution_count": 91,
     "metadata": {},
     "output_type": "execute_result"
    }
   ],
   "source": [
    "df_2.head(5)"
   ]
  },
  {
   "cell_type": "code",
   "execution_count": 108,
   "metadata": {},
   "outputs": [],
   "source": [
    "nomial_data=df_2.select_dtypes(include=['object'])\n",
    "numberical_data=df_2.select_dtypes(include=['int64'])"
   ]
  },
  {
   "cell_type": "markdown",
   "metadata": {},
   "source": [
    "## 1 数据可视化和摘要"
   ]
  },
  {
   "cell_type": "markdown",
   "metadata": {},
   "source": [
    "### 1.1 数据摘要"
   ]
  },
  {
   "cell_type": "markdown",
   "metadata": {},
   "source": [
    "#### 标称属性"
   ]
  },
  {
   "cell_type": "code",
   "execution_count": 110,
   "metadata": {},
   "outputs": [
    {
     "name": "stdout",
     "output_type": "stream",
     "text": [
      "-------------------------------------------------\n",
      "video_id:\n",
      "6ZfuNTqbHE8    8\n",
      "UceaB4D0jpo    8\n",
      "l_lblj8Cq0o    8\n",
      "VYOjWnS4cMY    8\n",
      "MvFcY9rTPx8    7\n",
      "              ..\n",
      "ObTqVQx3UFA    1\n",
      "WTtDjZqg2hU    1\n",
      "-A7eitZt9OY    1\n",
      "V75tpX-_Ghc    1\n",
      "8Pe78lpSfWs    1\n",
      "Name: video_id, Length: 24427, dtype: int64\n",
      "-------------------------------------------------\n",
      "trending_date:\n",
      "18.16.05    200\n",
      "18.23.05    200\n",
      "17.14.12    200\n",
      "18.07.04    200\n",
      "18.19.02    200\n",
      "           ... \n",
      "18.02.02    195\n",
      "18.13.02    195\n",
      "18.31.01    191\n",
      "18.01.02    190\n",
      "18.14.05    171\n",
      "Name: trending_date, Length: 205, dtype: int64\n",
      "-------------------------------------------------\n",
      "title:\n",
      "Most Popular Violin Covers of Popular Songs 2018 || Best Instrumental Violin Covers 2018               15\n",
      "Drake - God's Plan (Official Audio)                                                                    15\n",
      "Bruno Mars,Charlie Puth,Ed Sheeran Best Christmas Songs,Greatest Hits Pop Playlist Christmas 2018      13\n",
      "Deleted video                                                                                          11\n",
      "Merry Christmas 2018 - Top Christmas Songs Playlist 2018 - Best Christmas Songs Ever                   10\n",
      "                                                                                                       ..\n",
      "Uppum Mulakum│Flowers│EP# 483                                                                           1\n",
      "Miz Cracker Is Going To F*ck It Up | RuPaul's Drag Race Season 10                                       1\n",
      "Michael B. Jordan Dodges Relationship Questions, Talks Life Post-Black Panther + More                   1\n",
      "Is Rosenstein Allowing President Trump To Compromise The DoJ With Requests? | Rachel Maddow | MSNBC     1\n",
      "Fish biryani Recipe || Simple and Easy Fried Fish Biryani Recipe || Grandpa Kitchen                     1\n",
      "Name: title, Length: 24573, dtype: int64\n",
      "-------------------------------------------------\n",
      "channel_title:\n",
      "SET India          192\n",
      "MSNBC              189\n",
      "FBE                188\n",
      "The Young Turks    186\n",
      "REACT              183\n",
      "                  ... \n",
      "Top5                 1\n",
      "andreaXandrea        1\n",
      "Kevin Przytula       1\n",
      "Amazing Crafts       1\n",
      "TELUSfr              1\n",
      "Name: channel_title, Length: 5076, dtype: int64\n",
      "-------------------------------------------------\n",
      "publish_time:\n",
      "2017-12-20T23:00:00.000Z    11\n",
      "2018-02-11T15:00:01.000Z    10\n",
      "2017-11-18T17:00:00.000Z    10\n",
      "2018-03-11T16:00:00.000Z    10\n",
      "2018-01-29T04:00:00.000Z    10\n",
      "                            ..\n",
      "2018-03-29T22:13:23.000Z     1\n",
      "2018-03-10T22:26:29.000Z     1\n",
      "2017-12-01T16:19:18.000Z     1\n",
      "2017-11-23T15:04:11.000Z     1\n",
      "2018-03-09T03:34:57.000Z     1\n",
      "Name: publish_time, Length: 23613, dtype: int64\n",
      "-------------------------------------------------\n",
      "tags:\n",
      "[none]                                                                                                                                                                                                                                                                                                                                                                                                                                                                                                                  2385\n",
      "the real|\"daytime\"|\"talk show\"|\"women\"|\"tamera mowry\"|\"adrienne bailon\"|\"loni love\"|\"jeannie mai\"                                                                                                                                                                                                                                                                                                                                                                                                                        127\n",
      "best vines 2018|\"funny vines\"|\"funny videos\"|\"funniest videos 2018\"                                                                                                                                                                                                                                                                                                                                                                                                                                                      120\n",
      "Vaani rani|\"rani\"|\"Radhika in funny character\"|\"venu aravind\"|\"SunTV\"|\"VaniRani\"|\"vani\"|\"vaani\"|\"Radhika's dual role serial\"|\"Ranimma veetu kuripu\"|\"Radhika as lawyer in serial\"|\"radikaa\"|\"rathika\"|\"Radhika's new\"                                                                                                                                                                                                                                                                                                    116\n",
      "senegal|\"video\"|\"divertissement\"|\"humour\"|\"youssou ndour;musique\"|\"série\"|\"téléfilm\"|\"theatre\"                                                                                                                                                                                                                                                                                                                                                                                                                            85\n",
      "                                                                                                                                                                                                                                                                                                                                                                                                                                                                                                                        ... \n",
      "JTBC|\"JTBC NEWS\"|\"뉴스룸\"|\"손석희\"|\"newsroom\"|\"sohnsukhee\"|\"jtbc\"|\"jtbc 뉴스룸\"|\"뉴스\"|\"jtbc news\"|\"안나경\"|\"토론\"|\"JTBC 토론\"|\"뉴스룸 토론\"|\"손석희 토론\"|\"유시민\"|\"정재승\"|\"한호현\"|\"김진화\"|\"가상통화\"|\"가상화폐\"|\"가상화폐 거래소\"|\"가상화폐 거래소 폐쇄\"|\"비트코인\"|\"비트코인 시세\"|\"법무부\"|\"금융위\"|\"청와대\"|\"문재인 비트코인\"|\"비트코인 채굴\"|\"비트코인주\"|\"비트코인 선물거래\"|\"주식\"|\"옵션\"|\"시세\"                                                                                                                                                                                                                                   1\n",
      "lets|\"play\"|\"walkthrough\"|\"gameplay\"|\"egoraptor\"|\"danny\"|\"game\"|\"grumps\"|\"gamegrumps\"|\"funny\"|\"getting over it\"|\"getting over it game grumps\"|\"getting over it with bennett foddy\"|\"getting over it lets play\"|\"getting over it grumps\"|\"bennett foddy\"                                                                                                                                                                                                                                                                    1\n",
      "Yeovil Town vs Manchester United|\"Yeovil Town vs Manchester United 0-4\"|\"Yeovil Town vs Manchester United Highlights\"|\"Yeovil Town vs Manchester United All Goals\"                                                                                                                                                                                                                                                                                                                                                         1\n",
      "Republic Day Parade|\"26th January 2018\"|\"Republic Day\"|\"26th January\"|\"69th Republic Day\"|\"India's Republic Day\"|\"26 January\"|\"Rajpath\"|\"India Gate\"|\"PM Narendra Modi\"|\"heads of ASEAN Countries\"|\"ASEAN Countries\"|\"ASEAN\"|\"Ram Nath Kovind\"|\"President of India\"|\"Narendra Modi\"|\"HD Live Stream\"|\"Doordarshan National\"|\"doordarshan Live\"|\"Live on DD\"|\"Live on Doordarshan\"|\"DD National\"|\"Doordarshan\"|\"DD HD\"|\"Cambodia\"|\"Indonesia\"|\"Philippines\"|\"Vietnam\"|\"India's Republic Day 2018\"|\"Republic Day 2018\"       1\n",
      "fettuccine alfredo|\"home cooking\"|\"italian\"|\"italian food\"|\"pasta\"|\"test kitchen\"|\"parmesan reggiano\"|\"fettuccine\"|\"from the test kitchen\"|\"alfredo recipe\"|\"how to make alfredo\"|\"alfredo sauce\"|\"how to cook alfredo\"|\"alfredo sauce recipe\"|\"fettuccine alfredo recipe\"|\"how to make fettuccine alfredo\"|\"making fettuccine alfredo\"|\"easy fettuccine alfredo\"|\"easy alfredo\"|\"best fettuccine alfredo\"|\"best alfredo\"|\"carla\"|\"bon appetit carla\"|\"food\"|\"bon appetit\"|\"bon appétit\"                                   1\n",
      "Name: tags, Length: 20157, dtype: int64\n",
      "-------------------------------------------------\n",
      "thumbnail_link:\n",
      "https://i.ytimg.com/vi/UceaB4D0jpo/default.jpg    8\n",
      "https://i.ytimg.com/vi/6ZfuNTqbHE8/default.jpg    8\n",
      "https://i.ytimg.com/vi/VYOjWnS4cMY/default.jpg    8\n",
      "https://i.ytimg.com/vi/l_lblj8Cq0o/default.jpg    8\n",
      "https://i.ytimg.com/vi/tCXGJQYZ9JA/default.jpg    7\n",
      "                                                 ..\n",
      "https://i.ytimg.com/vi/0TFRglIvnV8/default.jpg    1\n",
      "https://i.ytimg.com/vi/TshVk1-D5fM/default.jpg    1\n",
      "https://i.ytimg.com/vi/6xUPaVfmcUs/default.jpg    1\n",
      "https://i.ytimg.com/vi/HIQtr_VKoLg/default.jpg    1\n",
      "https://i.ytimg.com/vi/2fFMeWn0a8o/default.jpg    1\n",
      "Name: thumbnail_link, Length: 24422, dtype: int64\n",
      "-------------------------------------------------\n",
      "description:\n",
      "Subscribers Link: http://bit.ly/2qb69dZ\\n\\nConnect with Radaan Media online: http://bit.ly/2rGVWHT\\n\\nVisit our WEBSITE: https://www.radaan.tv\\n\\nLike us on FACEBOOK: http://bit.ly/2qLmgTm\\n\\nFollow us on TWITTER: http://bit.ly/2r8gZGD\\n\\nVAANI RANI SYNOPSIS\\nTwin sister’s Vaani and Rani get married to an elder and younger brother of the same family respectively. Vaani the elder one is a well read attorney and the younger one Rani is a failure in education with not even going beyond 10thclass. Though both have extreme ideologies of life Rani is a favorite among neighbors with her uncanny innocent approach. Vaani is a roaring lion at the court room who is looked up as a role model to so many upcoming lawyers for her advocating abilities, whereas Rani is a well versed home maker. Not only with the sisters remain with this extremity but even their respective husband’s share the same dose of luck….Vaani is a mother of 2 children and Rani has three children who are in their teens. Volcanoes of persistent problem erupts now and then between the children too since each of them pertaining to different thought process indulge in living together under one roof as a nuclear family. Their comes a stage when it becomes so difficult to keep the family values intact between the varied problems which keeps cropping making the situation even more complex.\\n\\nWill Peace ever come back in this family ?\\n\\nWill anyone give up their Ego for the betterment of the family ?\\n\\nHead of Creative’s: Radikaa Sarathkumar\\n\\nStory: Radaan Mediaworks India Ltd,\\n\\nDirection: O.N. Rathnam\\n\\nDialogue: Pa. Raghavan\\n\\nScreen play: S. Kumaresan\\n\\nCamera: Chellapandian\\n\\nTitle Song: Sathya\\n\\nRe-recording: Hari\\n\\nCast: Radikaa Sarthkumar, Venu Aravind, Babulu, Arun Kumar Rajan, Vicky, Manas, Neelima, Navya, Andrews, Sasikala, Sudha, Niranjani, Gugan, Neha, Ravikumar, Vaani, Mano, Rajkumar, Mithran, Baboos, Sangeetha Balan, Murali, Srilekha, Rajendran, Nandakumar, Joker Thulasi, Tarun Kumar, Kavithalaya Krishnan, Ramachandran, Dharani, Shamly, Sruthi, Ashagu, Nithya Ravinder\\n\\nAn Icon in Indian Cinema, a top class actress, an incredibly successful entrepreneur and a Versatile Personality R.Radikaa Sarathkumar is indeed a Woman of Substance. She was introduced by Trendsetting Tamil Director Sri. Bharathiraja in his film “Kizhake Pogum Rayil”. Then she pursued acting in Tamil, Telugu, Malayalam, Kannada and Hindi in about 300 films. She has been crowned with Six Film fare Awards, Ten Cinema express awards, Four Tamil Nadu State Awards, Two Andhra state awards, Two Malaysian Film association awards. “Indra Priyadarshini Award” for her outstanding achievement and contribution to the society on the eve of International Women’s day. She is the founder of the Radaan Mediaworks Pvt. India Limited, which has produced serials such as Chitti, Annamalai, Selvi, Arasi, Chellame, and Vaani Rani . She created Historical records by appearing and making her Television soaps “Chithi” “Arasi” and “Annamalai” . At her 18th year of Mega Serial Era, she is winning the hearts of every Tamil Households in India with the latest “Vaani Rani” a double action treat of hers.    130\n",
      "► Listen LIVE: http://power1051fm.com/\\n► Facebook: https://www.facebook.com/Power1051NY/\\n► Twitter: https://twitter.com/power1051/\\n► Instagram: https://www.instagram.com/power1051/                                                                                                                                                                                                                                                                                                                                                                                                                                                                                                                                                                                                                                                                                                                                                                                                                                                                                                                                                                                                                                                                                                                                                                                                                                                                                                                                                                                                                                                                                                                                                                                                                                                                                                                                                                                                                                                                                                                                                                                                                                                                                                                                                                                                                                                                                                                                                                                                                                                                                                                                                                                                                                                                                                                                                                                                                                                                                                                                                                                                                                                                                                                 107\n",
      "NewsONE delivers the Latest Updates, Headlines, Breaking News and Information on the latest top stories from Pakistan and around the World. (weather, business, entertainment, politics, sports and more)\\n\\nSubscribe us\\n\\nWebsite: www.newsone.tv\\nNews Alerts: www.twitter.com/newsonepk\\nNews Updates: www.facebook.com/newsonepk\\nFollow us: www.instagram.com/newsonepakistan\\nSubscribe us on Youtube and Google+: Newsonepk                                                                                                                                                                                                                                                                                                                                                                                                                                                                                                                                                                                                                                                                                                                                                                                                                                                                                                                                                                                                                                                                                                                                                                                                                                                                                                                                                                                                                                                                                                                                                                                                                                                                                                                                                                                                                                                                                                                                                                                                                                                                                                                                                                                                                                                                                                                                                                                                                                                                                                                                                                                                                                                                                                                                                                                                                                                                     90\n",
      "► Découvrez ElhiwarEttounsi : https://goo.gl/gxtCTu\\n► Abonnez-vous à la chaîne : https://goo.gl/v5Nz1p\\n► Rejoignez-nous sur Facebook: https://goo.gl/sfjrWb\\n► Abonnez-vous sur instagram : https://goo.gl/mTJlTL                                                                                                                                                                                                                                                                                                                                                                                                                                                                                                                                                                                                                                                                                                                                                                                                                                                                                                                                                                                                                                                                                                                                                                                                                                                                                                                                                                                                                                                                                                                                                                                                                                                                                                                                                                                                                                                                                                                                                                                                                                                                                                                                                                                                                                                                                                                                                                                                                                                                                                                                                                                                                                                                                                                                                                                                                                                                                                                                                                                                                                                                                      66\n",
      "Chris Smoove T-Shirts! http://chrissmoove.com/\\nSplash the like button for more NBA videos!\\nNBA 2K18 Pack Simulator! http://mtdb.com/18/packs/\\n\\nMy NBA 2017-18 Playlist! Stay up to date with the series!\\nhttp://spl.sh/2rIlJhD\\n\\nMy Website, Facebook and Twitter\\nhttp://chrissmoove.com\\nhttp://www.facebook.com/ChrisSmoove\\nhttp://twitter.com/#!/Chris_Smoove                                                                                                                                                                                                                                                                                                                                                                                                                                                                                                                                                                                                                                                                                                                                                                                                                                                                                                                                                                                                                                                                                                                                                                                                                                                                                                                                                                                                                                                                                                                                                                                                                                                                                                                                                                                                                                                                                                                                                                                                                                                                                                                                                                                                                                                                                                                                                                                                                                                                                                                                                                                                                                                                                                                                                                                                                                                                                                                                 61\n",
      "                                                                                                                                                                                                                                                                                                                                                                                                                                                                                                                                                                                                                                                                                                                                                                                                                                                                                                                                                                                                                                                                                                                                                                                                                                                                                                                                                                                                                                                                                                                                                                                                                                                                                                                                                                                                                                                                                                                                                                                                                                                                                                                                                                                                                                                                                                                                                                                                                                                                                                                                                                                                                                                                                                                                                                                                                                                                                                                                                                                                                                                                                                                                                                                                                                                                                                       ... \n",
      "Uncomfortable Couch. Ever tried to approach a girl, but JUST COULDN'T STICK THE LANDING??! Watch this poor dude's attempt to land his next date now!\\n\\nBe Sure To Subscribe to Studio C ► https://goo.gl/ppFsJP\\n\\nBring on the laughs! Sketch comedy for everyone. Watch Studio C on YouTube.\\n\\nTop 15 Most Viewed Studio C Videos: https://goo.gl/FKrMuW\\n\\nSeason 8: \\n\\nSeason 7: https://goo.gl/CSsghg\\n\\nSeason 6: https://goo.gl/CYaQDG\\n\\nSeason 5: http://goo.gl/jo8k4z\\n\\nSeason 4: https://goo.gl/KUBK3e\\n\\nSeason 3: https://goo.gl/W3ncbe\\n\\nSeason 2: https://goo.gl/Swq4qh\\n\\nSeason 1: https://goo.gl/VeQdXX\\n\\nStudio C YouTube Exclusives: https://goo.gl/pQ2b38\\n\\nWatch Studio C Mondays at 9pm ET/7pm MT on BYUtv or online here: http://byutv.org/studioc\\n\\nLike Studio C on Facebook: https://www.facebook.com/StudioCtv\\nFollow Studio C on Instagram: http://instagram.com/studioctv\\nFollow Studio C on Twitter: https://twitter.com/StudioC_tv\\nPost with our official hashtag! #StudioC\\n\\nCast: Natalie Madsen, Whitney Call, Mallory Everton and Tori Pence\\nDirector: Gabe Casdorph\\nProducer: Luiz Malaman\\nLine Producer: Tess Kelly\\nWriter: Whitney Call\\nEditor: Jeff Davis\\n\\nThanks for watching\\nUncomfortable Couch                                                                                                                                                                                                                                                                                                                                                                                                                                                                                                                                                                                                                                                                                                                                                                                                                                                                                                                                                                                                                                                                                                                                                                                                                                                                                                                                                                                                                                                                                                                                                                                                                                                                                                                                                                                                                                                                                                                                                                                                                                            1\n",
      "受害者：小鐘、馬國賢、博焱、蔡允潔\\n爛媒人：潘若迪、甄莉、林秀琴、瑪莉亞\\n「未經著作權人事先書面同意，勿將內容用於商業性質之分享、連結。」「如有任何營業使用，必須事先取得書面同意」\\n● 電視播出／週一至週五 晚間10點 中天綜合台CH36頻道\\n● 影音平台／每晚2400準時放送 \\nYouTube 搜尋《我愛小明星大跟班》\\n▶按讚《小明星大跟班》https://www.facebook.com/SandyandJackyShow\\n▶訂閱／《小明星大跟班》https://www.youtube.com/channel/UCCiV0FmfqgLRC9zYjj1Q4IA\\n《小明星大跟班》CH36中天綜合台／每週一至週四晚間10點\\n精彩影音：https://www.youtube.com/playlist?list=PLvrTMNP6Iw6pFpvvbuuq1626HpHuI2FVS                                                                                                                                                                                                                                                                                                                                                                                                                                                                                                                                                                                                                                                                                                                                                                                                                                                                                                                                                                                                                                                                                                                                                                                                                                                                                                                                                                                                                                                                                                                                                                                                                                                                                                                                                                                                                                                                                                                                                                                                                                                                                                                                                                                                                                                                                                                                                                                                                                                                                                                                                                                                                                                                                                                                                                                                                                                                                         1\n",
      "Hell hath no fury like a woman scorned, and you can see ten of those scorned women in this Top Ten Crazy Exes Compilation!\\n\\n====================\\n\\nLike & Subscribe to our channel for new content twice weekly!\\nFollow us on Twitter: https://twitter.com/INPO_Comps\\nCheck us out on Facebook: https://www.facebook.com/InpoComps\\nSupport us on Patreon: https://www.patreon.com/InNoParticularOrder\\n\\nAll music between videos provided by our friend Odie Overdose who can be found at: \\nhttps://soundcloud.com/odieod\\nhttps://www.mixcloud.com/DJOdieOD/ \\n\\nHave a Top Ten you'd like to see? Leave a comment down below and you could see it in the near future!\\n\\n======================================\\n\\nWe here at INPO-Comps do not condone any of the behaviour or actions of the people featured in this video. Rather, we hope to provide clear, shining examples of how NOT to behave in public and how NOT to treat other people. \\nRegardless of race, gender, job or social class; every person deserves to be treated with dignity and respect. \\nLove and be kind to one another. \\nMake the world a better place. \\nLove your family and friends. \\nDon't act like these foolish children. \\nPeace.                                                                                                                                                                                                                                                                                                                                                                                                                                                                                                                                                                                                                                                                                                                                                                                                                                                                                                                                                                                                                                                                                                                                                                                                                                                                                                                                                                                                                                                                                                                                                                                                                                                                                                                                                                                                                                                                                                                                                                                                                                                                       1\n",
      "Nikki Haley, Bernie Sanders and Tom Cotton appear on This Week Sunday                                                                                                                                                                                                                                                                                                                                                                                                                                                                                                                                                                                                                                                                                                                                                                                                                                                                                                                                                                                                                                                                                                                                                                                                                                                                                                                                                                                                                                                                                                                                                                                                                                                                                                                                                                                                                                                                                                                                                                                                                                                                                                                                                                                                                                                                                                                                                                                                                                                                                                                                                                                                                                                                                                                                                                                                                                                                                                                                                                                                                                                                                                                                                                                                                                     1\n",
      "لمشاهدة باقي حلقات مسلسل أيوب  بطولة مصطفى شعبانhttps://goo.gl/DoxiTLمسلسل أيوب بطولة مصطفى شعبان – الحلقة السادسة والعشرون (٢٦) |  (Ayoub Series( EP26تدور الأحداث حول شاب يعمل في بنك يُدعى (أيوب)، يقع ضحية لعدد من الأقارب والأصدقاء عندما يطلبوا منه أن يكون ضامن لهم لأخذ قروض، ويزج به إلى السجن، وهو ما يجعل تفكيره يتغير تمامًا، ويصبح همه الوحيد عقب الخروج من السجن هو الانتقام ممن تسبب في سجنه.مسلسل أيوب بطولة : مصطفى شعبان – ايتن عامر – هنا الزاهدتابعونا على فيسبوك وتويتر .. https://www.facebook.com/AlHayahSeriesTV https://twitter.com/AlHayahSeriesTV                                                                                                                                                                                                                                                                                                                                                                                                                                                                                                                                                                                                                                                                                                                                                                                                                                                                                                                                                                                                                                                                                                                                                                                                                                                                                                                                                                                                                                                                                                                                                                                                                                                                                                                                                                                                                                                                                                                                                                                                                                                                                                                                                                                                                                                                                                                                                                                                                                                                                                                                                                                                                                                                                                                              1\n",
      "Name: description, Length: 22345, dtype: int64\n"
     ]
    }
   ],
   "source": [
    "for col in nomial_data.columns:\n",
    "    print(\"-------------------------------------------------\")\n",
    "    print(\"{}:\\n{}\".format(col,nomial_data[col].value_counts()))"
   ]
  },
  {
   "cell_type": "markdown",
   "metadata": {},
   "source": [
    "#### 数值属性"
   ]
  },
  {
   "cell_type": "code",
   "execution_count": 124,
   "metadata": {},
   "outputs": [
    {
     "name": "stdout",
     "output_type": "stream",
     "text": [
      "--------------------------------------\n",
      "category_id 五数概括：\n",
      "max: 43\n",
      "min: 1\n",
      "25%: 20.0\n",
      "50%: 24.0\n",
      "75%: 24.0\n",
      "--------------------------------------\n",
      "views 五数概括：\n",
      "max: 137843120\n",
      "min: 733\n",
      "25%: 143902.0\n",
      "50%: 371204.0\n",
      "75%: 963302.0\n",
      "--------------------------------------\n",
      "likes 五数概括：\n",
      "max: 5053338\n",
      "min: 0\n",
      "25%: 2191.0\n",
      "50%: 8780.0\n",
      "75%: 28717.0\n",
      "--------------------------------------\n",
      "dislikes 五数概括：\n",
      "max: 1602383\n",
      "min: 0\n",
      "25%: 99.0\n",
      "50%: 303.0\n",
      "75%: 950.0\n",
      "--------------------------------------\n",
      "comment_count 五数概括：\n",
      "max: 1114800\n",
      "min: 0\n",
      "25%: 417.0\n",
      "50%: 1301.0\n",
      "75%: 3713.0\n"
     ]
    }
   ],
   "source": [
    "for col in numberical_data.columns:\n",
    "    data=numberical_data[col]\n",
    "    v_max=np.max(data)\n",
    "    v_min=np.min(data)\n",
    "    v_25=np.quantile(data,0.25)\n",
    "    v_5=np.quantile(data,0.5)\n",
    "    v_75=np.quantile(data,0.75)\n",
    "    print(\"--------------------------------------\")\n",
    "    print(\"{} 五数概括：\\nmax: {}\\nmin: {}\\n25%: {}\\n50%: {}\\n75%: {}\".format(col,v_max,v_min,v_25,v_5,v_75))"
   ]
  },
  {
   "cell_type": "code",
   "execution_count": 119,
   "metadata": {},
   "outputs": [
    {
     "data": {
      "text/plain": [
       "video_id                     0\n",
       "trending_date                0\n",
       "title                        0\n",
       "channel_title                0\n",
       "category_id                  0\n",
       "publish_time                 0\n",
       "tags                         0\n",
       "views                        0\n",
       "likes                        0\n",
       "dislikes                     0\n",
       "comment_count                0\n",
       "thumbnail_link               0\n",
       "comments_disabled            0\n",
       "ratings_disabled             0\n",
       "video_error_or_removed       0\n",
       "description               1296\n",
       "dtype: int64"
      ]
     },
     "execution_count": 119,
     "metadata": {},
     "output_type": "execute_result"
    }
   ],
   "source": [
    "df_2.isna().sum()"
   ]
  },
  {
   "cell_type": "markdown",
   "metadata": {},
   "source": [
    "### 1.2 数据可视化"
   ]
  },
  {
   "cell_type": "code",
   "execution_count": 133,
   "metadata": {},
   "outputs": [
    {
     "data": {
      "image/png": "[encoded data removed]",
      "text/plain": [
       "<Figure size 576x1440 with 5 Axes>"
      ]
     },
     "metadata": {
      "needs_background": "light"
     },
     "output_type": "display_data"
    }
   ],
   "source": [
    "plt.figure(figsize=(8,20))\n",
    "for i in range(5):\n",
    "    data=numberical_data[numberical_data.columns[i]]\n",
    "    plt.subplot(5,1,i+1)\n",
    "    plt.hist(data, bins=50,facecolor=\"blue\", edgecolor=\"black\")\n",
    "    plt.title(numberical_data.columns[i])\n",
    "plt.show()"
   ]
  },
  {
   "cell_type": "code",
   "execution_count": 135,
   "metadata": {},
   "outputs": [
    {
     "data": {
      "image/png": "[encoded data removed]",
      "text/plain": [
       "<Figure size 720x1440 with 5 Axes>"
      ]
     },
     "metadata": {
      "needs_background": "light"
     },
     "output_type": "display_data"
    }
   ],
   "source": [
    "plt.figure(figsize=(10,20))\n",
    "for i in range(5):\n",
    "    data=numberical_data[numberical_data.columns[i]]\n",
    "    plt.subplot(5,1,i+1)\n",
    "    plt.boxplot(data, vert=False)\n",
    "    plt.title(numberical_data.columns[i])\n",
    "plt.show()"
   ]
  },
  {
   "cell_type": "markdown",
   "metadata": {},
   "source": [
    "## 2 缺失值处理"
   ]
  },
  {
   "cell_type": "markdown",
   "metadata": {},
   "source": [
    "此数据集数值属性无缺失值，真好~"
   ]
  }
 ],
 "metadata": {
  "kernelspec": {
   "display_name": "Python 3",
   "language": "python",
   "name": "python3"
  },
  "language_info": {
   "codemirror_mode": {
    "name": "ipython",
    "version": 3
   },
   "file_extension": ".py",
   "mimetype": "text/x-python",
   "name": "python",
   "nbconvert_exporter": "python",
   "pygments_lexer": "ipython3",
   "version": "3.7.4"
  }
 },
 "nbformat": 4,
 "nbformat_minor": 2
}
